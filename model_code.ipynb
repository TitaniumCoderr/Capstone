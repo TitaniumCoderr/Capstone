{
  "nbformat": 4,
  "nbformat_minor": 0,
  "metadata": {
    "colab": {
      "provenance": [],
      "gpuType": "T4",
      "include_colab_link": true
    },
    "kernelspec": {
      "name": "python3",
      "display_name": "Python 3"
    },
    "language_info": {
      "name": "python"
    },
    "gpuClass": "standard"
  },
  "cells": [
    {
      "cell_type": "markdown",
      "metadata": {
        "id": "view-in-github",
        "colab_type": "text"
      },
      "source": [
        "<a href=\"https://colab.research.google.com/github/TitaniumCoderr/Capstone/blob/master/model_code.ipynb\" target=\"_parent\"><img src=\"https://colab.research.google.com/assets/colab-badge.svg\" alt=\"Open In Colab\"/></a>"
      ]
    },
    {
      "cell_type": "code",
      "execution_count": null,
      "metadata": {
        "id": "OlNrBgujIGet"
      },
      "outputs": [],
      "source": [
        "import os\n",
        "import tensorflow as tf\n",
        "from tensorflow.keras.applications.mobilenet_v2 import MobileNetV2, preprocess_input\n",
        "from tensorflow.keras.layers import Dense, Conv2D,GlobalAvgPool2D, Input\n",
        "from tensorflow.keras.preprocessing.image import load_img, ImageDataGenerator\n",
        "from tensorflow.keras import callbacks, optimizers\n",
        "import numpy as np\n",
        "from google.colab import drive\n",
        "import tensorflow_datasets as tfds #imported to get the plant_village dataset\n",
        "import matplotlib.pyplot as plt\n",
        "import random \n",
        " \n",
        "from tensorflow.keras import layers\n",
        "from sklearn.model_selection import train_test_split #split the data\n",
        "from tensorflow.keras.models import Sequential"
      ]
    },
    {
      "cell_type": "code",
      "source": [
        "#mountoing the drive to access the dataset\n",
        "drive.mount('/content/drive')"
      ],
      "metadata": {
        "colab": {
          "base_uri": "https://localhost:8080/"
        },
        "id": "qlcxwLarAPOQ",
        "outputId": "d82e0ba0-d381-489f-a928-c24323abcaf7"
      },
      "execution_count": null,
      "outputs": [
        {
          "output_type": "stream",
          "name": "stdout",
          "text": [
            "Drive already mounted at /content/drive; to attempt to forcibly remount, call drive.mount(\"/content/drive\", force_remount=True).\n"
          ]
        }
      ]
    },
    {
      "cell_type": "code",
      "source": [
        "%cd drive/MyDrive/\n",
        "\n"
      ],
      "metadata": {
        "colab": {
          "base_uri": "https://localhost:8080/"
        },
        "id": "1EE-f1xGZA-M",
        "outputId": "af43a1e0-602f-4404-fffa-114b3598d47d"
      },
      "execution_count": null,
      "outputs": [
        {
          "output_type": "stream",
          "name": "stdout",
          "text": [
            "/content/drive/MyDrive\n"
          ]
        }
      ]
    },
    {
      "cell_type": "code",
      "source": [
        "#listing the classes in the dataset\n",
        "for i in os.listdir(\"Plant_dataset\"):\n",
        "  print(i, len(os.listdir(\"Plant_dataset/\"+i)))\n"
      ],
      "metadata": {
        "id": "6iyTjVwTSuPH"
      },
      "execution_count": null,
      "outputs": []
    },
    {
      "cell_type": "code",
      "source": [
        "#make train and test folder \n",
        "try:\n",
        "  os.mkdir(\"train\")\n",
        "  os.mkdir(\"test\")\n",
        "except:\n",
        "  pass\n",
        "#loop through the dataset\n",
        "for i in os.listdir(\"Plant_dataset\"):\n",
        "  try:\n",
        "    os.mkdir(\"train/\"+i)\n",
        "    os.mkdir(\"test/\"+i)\n",
        "  except:\n",
        "    pass\n",
        "  #putting 210 photos from each class in the training folder\n",
        "  for j in os.listdir(\"Plant_dataset/\" +i)[:210]:\n",
        "    os.rename(\"Plant_dataset/\"+i+\"/\"+j, \"train/\"+i+\"/\"+j)\n",
        "  \n",
        "  #putting 100 photos from each class in the testing folder\n",
        "  for j in os.listdir(\"Plant_dataset/\" +i)[:100]:\n",
        "    os.rename(\"Plant_dataset/\"+i+\"/\"+j, \"test/\"+i+\"/\"+j)"
      ],
      "metadata": {
        "id": "km236FyyTOyh"
      },
      "execution_count": null,
      "outputs": []
    },
    {
      "cell_type": "code",
      "source": [
        "gen_object = ImageDataGenerator"
      ],
      "metadata": {
        "id": "JyJXGknOW8sr"
      },
      "execution_count": null,
      "outputs": []
    },
    {
      "cell_type": "code",
      "source": [
        "#pre-proccessing \n",
        "#generates and returns an image data generator object\n",
        "def img_data(dir_path,target_size,batch,class_lst,preprocesss):\n",
        "  if preprocesss:\n",
        "    gen_object= ImageDataGenerator(preprocessing_function=preprocesss)\n",
        "  else:\n",
        "    gen_object=ImageDataGenerator()\n",
        "\n",
        "  return (gen_object.flow_from_directory(dir_path,\n",
        "                                         target_size=target_size,\n",
        "                                         batch_size=batch,\n",
        "                                         class_mode='sparse',  \n",
        "                                         classes=class_lst,\n",
        "                                         shuffle=True))\n"
      ],
      "metadata": {
        "id": "dzxL_ARLXMVg"
      },
      "execution_count": null,
      "outputs": []
    },
    {
      "cell_type": "code",
      "source": [
        "#pre-proccessing \n",
        "\n",
        "train_data_gen = img_data(\"train\",(224,224),500,os.listdir(\"train\"),preprocess_input)\n",
        "valid_data_gen = img_data(\"test\",(224,224),500,os.listdir(\"test\"),preprocess_input)"
      ],
      "metadata": {
        "id": "WxEQOzwRZC7Q"
      },
      "execution_count": null,
      "outputs": []
    },
    {
      "cell_type": "code",
      "source": [
        "#pre-trained base model\n",
        "my_model= tf.keras.applications.mobilenet_v2.MobileNetV2(\n",
        "    input_shape=(224,224,3),\n",
        "    alpha=1.0,\n",
        "    include_top=False,\n",
        "    weights='imagenet',\n",
        "    input_tensor=None,\n",
        "    pooling=None,\n",
        "    classes=1000,\n",
        "    classifier_activation='softmax')"
      ],
      "metadata": {
        "id": "oqLdGRQRbyI-"
      },
      "execution_count": null,
      "outputs": []
    },
    {
      "cell_type": "code",
      "source": [
        "my_model.trainable=False"
      ],
      "metadata": {
        "id": "JvZgXERDcnT1"
      },
      "execution_count": null,
      "outputs": []
    },
    {
      "cell_type": "code",
      "source": [
        "#building the model\n",
        "model= tf.keras.models.Sequential()\n",
        "model.add(my_model) # Adding the MobileNetV2 model as a base layer\n",
        "model.add(GlobalAvgPool2D()) # Global average pooling layer\n",
        "model.add(Dense(1024, activation='relu')) # Fully connected layer with 1024 units and ReLU activation\n",
        "model.add(Dense(25, activation='softmax')) # Output layer with 25 units and softmax activation\n",
        "\n",
        "model.compile(optimizer='adam',loss='sparse_categorical_crossentropy',metrics=['accuracy'])"
      ],
      "metadata": {
        "id": "vsz8l7Uucx8f"
      },
      "execution_count": null,
      "outputs": []
    },
    {
      "cell_type": "code",
      "source": [
        "elst= callbacks.EarlyStopping(monitor='val_loss',patience=5, mode='min') \n",
        "save_ck= callbacks.ModelCheckpoint(\".myModel.hdf5\", save_best_only=True, monitor='val_loss', mode='min')"
      ],
      "metadata": {
        "id": "m6_j5br3dJ0g"
      },
      "execution_count": null,
      "outputs": []
    },
    {
      "cell_type": "code",
      "source": [
        "model.fit(train_data_gen, batch_size=500, validation_data=valid_data_gen,callbacks=[elst,save_ck], epochs=10)"
      ],
      "metadata": {
        "colab": {
          "base_uri": "https://localhost:8080/"
        },
        "id": "MtMoZ9nTgi2U",
        "outputId": "72ac62be-5987-4af9-911f-0d843b7c1801"
      },
      "execution_count": null,
      "outputs": [
        {
          "output_type": "stream",
          "name": "stdout",
          "text": [
            "Epoch 1/10\n",
            "15/15 [==============================] - 2282s 153s/step - loss: 1.0284 - accuracy: 0.7313 - val_loss: 0.3133 - val_accuracy: 0.8970\n",
            "Epoch 2/10\n",
            "15/15 [==============================] - 861s 57s/step - loss: 0.1795 - accuracy: 0.9442 - val_loss: 0.1468 - val_accuracy: 0.9531\n",
            "Epoch 3/10\n",
            "15/15 [==============================] - 861s 58s/step - loss: 0.0890 - accuracy: 0.9733 - val_loss: 0.1266 - val_accuracy: 0.9582\n",
            "Epoch 4/10\n",
            "15/15 [==============================] - 871s 58s/step - loss: 0.0641 - accuracy: 0.9824 - val_loss: 0.1070 - val_accuracy: 0.9683\n",
            "Epoch 5/10\n",
            "15/15 [==============================] - 874s 59s/step - loss: 0.0432 - accuracy: 0.9905 - val_loss: 0.1032 - val_accuracy: 0.9691\n",
            "Epoch 6/10\n",
            "15/15 [==============================] - 864s 60s/step - loss: 0.0289 - accuracy: 0.9950 - val_loss: 0.0814 - val_accuracy: 0.9745\n",
            "Epoch 7/10\n",
            "15/15 [==============================] - 872s 58s/step - loss: 0.0191 - accuracy: 0.9980 - val_loss: 0.0743 - val_accuracy: 0.9756\n",
            "Epoch 8/10\n",
            "15/15 [==============================] - 845s 57s/step - loss: 0.0159 - accuracy: 0.9986 - val_loss: 0.0744 - val_accuracy: 0.9774\n",
            "Epoch 9/10\n",
            "15/15 [==============================] - 853s 56s/step - loss: 0.0139 - accuracy: 0.9986 - val_loss: 0.0666 - val_accuracy: 0.9782\n",
            "Epoch 10/10\n",
            "15/15 [==============================] - 845s 57s/step - loss: 0.0109 - accuracy: 0.9989 - val_loss: 0.0669 - val_accuracy: 0.9778\n"
          ]
        },
        {
          "output_type": "execute_result",
          "data": {
            "text/plain": [
              "<keras.callbacks.History at 0x7f262b66e830>"
            ]
          },
          "metadata": {},
          "execution_count": 117
        }
      ]
    }
  ]
}